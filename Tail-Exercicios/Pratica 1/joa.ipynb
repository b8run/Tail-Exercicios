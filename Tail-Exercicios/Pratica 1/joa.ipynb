{
 "cells": [
  {
   "cell_type": "code",
   "execution_count": 88,
   "source": [
    "import tensorflow as tf\r\n",
    "import matplotlib.pyplot as plt\r\n",
    "import numpy as np"
   ],
   "outputs": [],
   "metadata": {}
  },
  {
   "cell_type": "code",
   "execution_count": 89,
   "source": [
    "mnist = tf.keras.datasets.mnist\r\n",
    "\r\n",
    "(x_train, y_train), (x_test, y_test) = mnist.load_data()\r\n",
    "\r\n"
   ],
   "outputs": [],
   "metadata": {}
  },
  {
   "cell_type": "code",
   "execution_count": 90,
   "source": [
    "numImage = 48864 #@param {type:\"slider\", min:0, max:59999, step:1}\r\n",
    "primeiraImagem = np.array(x_train[numImage], dtype='uint8')\r\n",
    "pixels = primeiraImagem.reshape((28, 28))\r\n",
    "plt.imshow(pixels, cmap='gray')\r\n",
    "plt.xlabel(f\"O número é: {y_train[numImage]}\")"
   ],
   "outputs": [
    {
     "output_type": "execute_result",
     "data": {
      "text/plain": [
       "Text(0.5, 0, 'O número é: 6')"
      ]
     },
     "metadata": {},
     "execution_count": 90
    },
    {
     "output_type": "display_data",
     "data": {
      "image/png": "[encoded data removed]",
      "text/plain": [
       "<Figure size 432x288 with 1 Axes>"
      ]
     },
     "metadata": {
      "needs_background": "light"
     }
    }
   ],
   "metadata": {}
  },
  {
   "cell_type": "code",
   "execution_count": 91,
   "source": [
    "x_train.shape"
   ],
   "outputs": [
    {
     "output_type": "execute_result",
     "data": {
      "text/plain": [
       "(60000, 28, 28)"
      ]
     },
     "metadata": {},
     "execution_count": 91
    }
   ],
   "metadata": {}
  },
  {
   "cell_type": "code",
   "execution_count": 92,
   "source": [
    "plt.figure()\r\n",
    "plt.imshow(x_train[numImage])\r\n",
    "plt.colorbar()\r\n",
    "plt.grid(False)\r\n",
    "plt.show()"
   ],
   "outputs": [
    {
     "output_type": "display_data",
     "data": {
      "image/png": "[encoded data removed]",
      "text/plain": [
       "<Figure size 432x288 with 2 Axes>"
      ]
     },
     "metadata": {
      "needs_background": "light"
     }
    }
   ],
   "metadata": {}
  },
  {
   "cell_type": "markdown",
   "source": [
    "Ajustando resolução de pixels de conjunto de treino e teste para intervalo entre [0,1]"
   ],
   "metadata": {}
  },
  {
   "cell_type": "code",
   "execution_count": 93,
   "source": [
    "x_train, x_test = x_train / 255.0, x_test / 255.0 "
   ],
   "outputs": [],
   "metadata": {}
  },
  {
   "cell_type": "code",
   "execution_count": 94,
   "source": [
    "plt.figure()\r\n",
    "plt.imshow(x_train[numImage])\r\n",
    "plt.colorbar()\r\n",
    "plt.grid(True)\r\n",
    "plt.show()"
   ],
   "outputs": [
    {
     "output_type": "display_data",
     "data": {
      "image/png": "[encoded data removed]",
      "text/plain": [
       "<Figure size 432x288 with 2 Axes>"
      ]
     },
     "metadata": {
      "needs_background": "light"
     }
    }
   ],
   "metadata": {}
  },
  {
   "cell_type": "markdown",
   "source": [
    "Adicionando duas camadas Dense, com uma ativação \"relu\" e 1000 neurônios. Modelo conta com camada de 10 neurônios que retornam 10 probabilidades"
   ],
   "metadata": {}
  },
  {
   "cell_type": "code",
   "execution_count": 95,
   "source": [
    "model = tf.keras.models.Sequential([\r\n",
    "  tf.keras.layers.Flatten(input_shape=(28, 28)), #para a primeira camada de um modelo sequencial precisamos passar o formado da entrada\r\n",
    "  tf.keras.layers.Dense(1000,  activation=\"relu\"), #Os parâmetros importante são apenas número de neurônios e função de ativação\r\n",
    "  tf.keras.layers.Dense(500,  activation=\"relu\"),\r\n",
    "  tf.keras.layers.Dense(20)\r\n",
    "])"
   ],
   "outputs": [],
   "metadata": {}
  },
  {
   "cell_type": "markdown",
   "source": [
    "## Predição e Função de Perda"
   ],
   "metadata": {}
  },
  {
   "cell_type": "code",
   "execution_count": 96,
   "source": [
    "predicoes = model(x_train).numpy()\r\n",
    "funcaoDePerda = tf.keras.losses.SparseCategoricalCrossentropy(from_logits=True)"
   ],
   "outputs": [],
   "metadata": {}
  },
  {
   "cell_type": "markdown",
   "source": [
    "## Compilação do modelo"
   ],
   "metadata": {}
  },
  {
   "cell_type": "code",
   "execution_count": 97,
   "source": [
    "model.compile(optimizer='adam',\r\n",
    "              loss=funcaoDePerda,\r\n",
    "              metrics=['accuracy'])"
   ],
   "outputs": [],
   "metadata": {}
  },
  {
   "cell_type": "markdown",
   "source": [
    "## Treinamento\r\n"
   ],
   "metadata": {}
  },
  {
   "cell_type": "code",
   "execution_count": 98,
   "source": [
    "model.fit(x_train, y_train, validation_split=0.2, epochs=5, batch_size=64)"
   ],
   "outputs": [
    {
     "output_type": "stream",
     "name": "stdout",
     "text": [
      "Epoch 1/5\n",
      "750/750 [==============================] - 8s 10ms/step - loss: 0.2070 - accuracy: 0.9377 - val_loss: 0.1062 - val_accuracy: 0.9689\n",
      "Epoch 2/5\n",
      "750/750 [==============================] - 7s 10ms/step - loss: 0.0814 - accuracy: 0.9742 - val_loss: 0.1063 - val_accuracy: 0.9692\n",
      "Epoch 3/5\n",
      "750/750 [==============================] - 7s 10ms/step - loss: 0.0534 - accuracy: 0.9827 - val_loss: 0.0944 - val_accuracy: 0.9744\n",
      "Epoch 4/5\n",
      "750/750 [==============================] - 7s 10ms/step - loss: 0.0428 - accuracy: 0.9863 - val_loss: 0.0888 - val_accuracy: 0.9757\n",
      "Epoch 5/5\n",
      "750/750 [==============================] - 7s 10ms/step - loss: 0.0272 - accuracy: 0.9910 - val_loss: 0.1130 - val_accuracy: 0.9732\n"
     ]
    },
    {
     "output_type": "execute_result",
     "data": {
      "text/plain": [
       "<keras.callbacks.History at 0x1ad46fdf7c0>"
      ]
     },
     "metadata": {},
     "execution_count": 98
    }
   ],
   "metadata": {}
  },
  {
   "cell_type": "markdown",
   "source": [
    "## Exibindo Resultados"
   ],
   "metadata": {}
  },
  {
   "cell_type": "code",
   "execution_count": 99,
   "source": [
    "cost, acc = model.evaluate(x_test,  y_test, verbose=2)\r\n",
    "print(f\"Custo: {cost}\\nAcurácia: {acc}\")"
   ],
   "outputs": [
    {
     "output_type": "stream",
     "name": "stdout",
     "text": [
      "313/313 - 1s - loss: 0.1042 - accuracy: 0.9740\n",
      "Custo: 0.10421314835548401\n",
      "Acurácia: 0.9739999771118164\n"
     ]
    }
   ],
   "metadata": {}
  },
  {
   "cell_type": "code",
   "execution_count": 100,
   "source": [
    "\r\n",
    "predicaoEscolhida = predicoes[numImage]\r\n",
    "predicaoLegenda = np.argmax(predicaoEscolhida)\r\n",
    "predicaoMaxima= np.max(predicaoEscolhida)*100\r\n",
    "imagem = x_train[numImage]\r\n",
    "\r\n",
    "plt.imshow(imagem, cmap=plt.cm.binary)\r\n",
    "\r\n",
    "plt.title(f\"O número é {y_train[numImage]}\")\r\n",
    "plt.xlabel(f\"O número predito foi {predicaoLegenda} com  {predicaoMaxima:2.0f}% de confiança\".format(color=\"green\"))\r\n"
   ],
   "outputs": [
    {
     "output_type": "execute_result",
     "data": {
      "text/plain": [
       "Text(0.5, 0, 'O número predito foi 16 com  48% de confiança')"
      ]
     },
     "metadata": {},
     "execution_count": 100
    },
    {
     "output_type": "display_data",
     "data": {
      "image/png": "[encoded data removed]",
      "text/plain": [
       "<Figure size 432x288 with 1 Axes>"
      ]
     },
     "metadata": {
      "needs_background": "light"
     }
    }
   ],
   "metadata": {}
  }
 ],
 "metadata": {
  "orig_nbformat": 4,
  "language_info": {
   "name": "python",
   "version": "3.9.2",
   "mimetype": "text/x-python",
   "codemirror_mode": {
    "name": "ipython",
    "version": 3
   },
   "pygments_lexer": "ipython3",
   "nbconvert_exporter": "python",
   "file_extension": ".py"
  },
  "kernelspec": {
   "name": "python3",
   "display_name": "Python 3.9.2 64-bit"
  },
  "interpreter": {
   "hash": "63fd5069d213b44bf678585dea6b12cceca9941eaf7f819626cde1f2670de90d"
  }
 },
 "nbformat": 4,
 "nbformat_minor": 2
}