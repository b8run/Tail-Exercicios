{
 "cells": [
  {
   "cell_type": "code",
   "execution_count": 2,
   "source": [
    "import tensorflow as tf\r\n",
    "import matplotlib.pyplot as plt\r\n",
    "import numpy as np"
   ],
   "outputs": [],
   "metadata": {}
  },
  {
   "cell_type": "code",
   "execution_count": 3,
   "source": [
    "mnist = tf.keras.datasets.mnist #dataset com imagens em escala de cinza com dimensão 28x28\r\n",
    "\r\n",
    "(x_train, y_train), (x_test, y_test) = mnist.load_data() #extrai os dados do dataset\r\n",
    "\r\n"
   ],
   "outputs": [],
   "metadata": {}
  },
  {
   "cell_type": "code",
   "execution_count": 4,
   "source": [
    "numImage = 48864 #@param {type:\"slider\", min:0, max:59999, step:1}\r\n",
    "primeiraImagem = np.array(x_train[numImage], dtype='uint8')\r\n",
    "pixels = primeiraImagem.reshape((28, 28))\r\n",
    "plt.imshow(pixels, cmap='gray')\r\n",
    "plt.xlabel(f\"O número é: {y_train[numImage]}\")"
   ],
   "outputs": [
    {
     "output_type": "execute_result",
     "data": {
      "text/plain": [
       "Text(0.5, 0, 'O número é: 6')"
      ]
     },
     "metadata": {},
     "execution_count": 4
    },
    {
     "output_type": "display_data",
     "data": {
      "image/png": "[encoded data removed]",
      "text/plain": [
       "<Figure size 432x288 with 1 Axes>"
      ]
     },
     "metadata": {
      "needs_background": "light"
     }
    }
   ],
   "metadata": {}
  },
  {
   "cell_type": "code",
   "execution_count": 5,
   "source": [
    "x_train.shape"
   ],
   "outputs": [
    {
     "output_type": "execute_result",
     "data": {
      "text/plain": [
       "(60000, 28, 28)"
      ]
     },
     "metadata": {},
     "execution_count": 5
    }
   ],
   "metadata": {}
  },
  {
   "cell_type": "code",
   "execution_count": 6,
   "source": [
    "plt.figure()\r\n",
    "plt.imshow(x_train[numImage])\r\n",
    "plt.colorbar()\r\n",
    "plt.grid(True)#plota com grade\r\n",
    "plt.show()"
   ],
   "outputs": [
    {
     "output_type": "display_data",
     "data": {
      "image/png": "[encoded data removed]",
      "text/plain": [
       "<Figure size 432x288 with 2 Axes>"
      ]
     },
     "metadata": {
      "needs_background": "light"
     }
    }
   ],
   "metadata": {}
  },
  {
   "cell_type": "markdown",
   "source": [
    "Ajustando resolução de pixels de conjunto de treino e teste para intervalo entre [0,1]"
   ],
   "metadata": {}
  },
  {
   "cell_type": "code",
   "execution_count": 8,
   "source": [
    "x_train, x_test = x_train / 255.0, x_test / 255.0 # dividir o pelo valor 255 faz com que o valor de 0 ou 1, 0 sendo preto e 1 sendo branco."
   ],
   "outputs": [],
   "metadata": {}
  },
  {
   "cell_type": "code",
   "execution_count": 9,
   "source": [
    "plt.figure()\r\n",
    "plt.imshow(x_train[numImage])\r\n",
    "plt.colorbar()\r\n",
    "plt.grid(False)\r\n",
    "plt.show()"
   ],
   "outputs": [
    {
     "output_type": "display_data",
     "data": {
      "image/png": "[encoded data removed]",
      "text/plain": [
       "<Figure size 432x288 with 2 Axes>"
      ]
     },
     "metadata": {
      "needs_background": "light"
     }
    }
   ],
   "metadata": {}
  },
  {
   "cell_type": "markdown",
   "source": [
    "Adicionando duas camadas Dense, com uma ativação \"relu\" e 1000 neurônios. Modelo conta com camada de 10 neurônios que retornam 10 probabilidades"
   ],
   "metadata": {}
  },
  {
   "cell_type": "code",
   "execution_count": 10,
   "source": [
    "model = tf.keras.models.Sequential([\r\n",
    "  tf.keras.layers.Flatten(input_shape=(28, 28)), #para a primeira camada de um modelo sequencial precisamos passar o formado da entrada\r\n",
    "  tf.keras.layers.Dense(1000,  activation=\"relu\"), #Os parâmetros importante são apenas número de neurônios e função de ativação\r\n",
    "  tf.keras.layers.Dense(500,  activation=\"relu\"),\r\n",
    "  tf.keras.layers.Dense(20)\r\n",
    "])"
   ],
   "outputs": [],
   "metadata": {}
  },
  {
   "cell_type": "markdown",
   "source": [
    "## Predição e Função de Perda"
   ],
   "metadata": {}
  },
  {
   "cell_type": "code",
   "execution_count": 11,
   "source": [
    "predicoes = model(x_train).numpy()\r\n",
    "funcaoDePerda = tf.keras.losses.SparseCategoricalCrossentropy(from_logits=True) #Calcula a perda de entropia cruzada entre os rótulos e as previsões."
   ],
   "outputs": [],
   "metadata": {}
  },
  {
   "cell_type": "markdown",
   "source": [
    "## Compilação do modelo"
   ],
   "metadata": {}
  },
  {
   "cell_type": "code",
   "execution_count": 14,
   "source": [
    "#Otimizadores\r\n",
    "model.compile(optimizer='SGD',\r\n",
    "              loss=funcaoDePerda,\r\n",
    "              metrics=['accuracy'])\r\n",
    "#A otimização de Adam é um método de descida gradiente estocástico baseado na estimativa adaptativa de momentos de primeira e segunda ordem."
   ],
   "outputs": [],
   "metadata": {}
  },
  {
   "cell_type": "markdown",
   "source": [
    "## Treinamento\r\n"
   ],
   "metadata": {}
  },
  {
   "cell_type": "code",
   "execution_count": 15,
   "source": [
    "model.fit(x_train, y_train, validation_split=0.2, epochs=5, batch_size=64)\r\n",
    "#a função v alidation_split keras torna fácil para o usuário dividir o conjunto de dados de treinamento em treinamento e validação\r\n",
    "#epochs = interações com o conjunto de dados\r\n",
    "#batch_size Número de amostras por atualização de gradiente, default = 32."
   ],
   "outputs": [
    {
     "output_type": "stream",
     "name": "stdout",
     "text": [
      "Epoch 1/5\n",
      "750/750 [==============================] - 7s 9ms/step - loss: 0.0144 - accuracy: 0.9953 - val_loss: 0.0744 - val_accuracy: 0.9799\n",
      "Epoch 2/5\n",
      "750/750 [==============================] - 7s 9ms/step - loss: 0.0106 - accuracy: 0.9970 - val_loss: 0.0713 - val_accuracy: 0.9808\n",
      "Epoch 3/5\n",
      "750/750 [==============================] - 7s 9ms/step - loss: 0.0089 - accuracy: 0.9977 - val_loss: 0.0698 - val_accuracy: 0.9820\n",
      "Epoch 4/5\n",
      "750/750 [==============================] - 6s 9ms/step - loss: 0.0079 - accuracy: 0.9981 - val_loss: 0.0690 - val_accuracy: 0.9826\n",
      "Epoch 5/5\n",
      "750/750 [==============================] - 6s 9ms/step - loss: 0.0071 - accuracy: 0.9984 - val_loss: 0.0685 - val_accuracy: 0.9827\n"
     ]
    },
    {
     "output_type": "execute_result",
     "data": {
      "text/plain": [
       "<keras.callbacks.History at 0x2ae1eaa5580>"
      ]
     },
     "metadata": {},
     "execution_count": 15
    }
   ],
   "metadata": {}
  },
  {
   "cell_type": "markdown",
   "source": [
    "## Exibindo Resultados"
   ],
   "metadata": {}
  },
  {
   "cell_type": "code",
   "execution_count": 16,
   "source": [
    "cost, acc = model.evaluate(x_test,  y_test, verbose=2)\r\n",
    "print(f\"Custo: {cost}\\nAcurácia: {acc}\")\r\n",
    "\r\n",
    "#Retorna o valor de perda e os valores de métrica para o modelo no modo de teste\r\n"
   ],
   "outputs": [
    {
     "output_type": "stream",
     "name": "stdout",
     "text": [
      "313/313 - 1s - loss: 0.0573 - accuracy: 0.9845\n",
      "Custo: 0.05733514949679375\n",
      "Acurácia: 0.984499990940094\n"
     ]
    }
   ],
   "metadata": {}
  },
  {
   "cell_type": "code",
   "execution_count": 17,
   "source": [
    "\r\n",
    "predicaoEscolhida = predicoes[numImage]\r\n",
    "predicaoLegenda = np.argmax(predicaoEscolhida)\r\n",
    "predicaoMaxima= np.max(predicaoEscolhida)*100\r\n",
    "imagem = x_train[numImage]\r\n",
    "\r\n",
    "plt.imshow(imagem, cmap=plt.cm.binary)\r\n",
    "\r\n",
    "plt.title(f\"O número é {y_train[numImage]}\")\r\n",
    "plt.xlabel(f\"O número predito foi {predicaoLegenda} com  {predicaoMaxima:2.0f}% de confiança\".format(color=\"green\"))\r\n"
   ],
   "outputs": [
    {
     "output_type": "execute_result",
     "data": {
      "text/plain": [
       "Text(0.5, 0, 'O número predito foi 10 com  35% de confiança')"
      ]
     },
     "metadata": {},
     "execution_count": 17
    },
    {
     "output_type": "display_data",
     "data": {
      "image/png": "[encoded data removed]",
      "text/plain": [
       "<Figure size 432x288 with 1 Axes>"
      ]
     },
     "metadata": {
      "needs_background": "light"
     }
    }
   ],
   "metadata": {}
  }
 ],
 "metadata": {
  "orig_nbformat": 4,
  "language_info": {
   "name": "python",
   "version": "3.9.2",
   "mimetype": "text/x-python",
   "codemirror_mode": {
    "name": "ipython",
    "version": 3
   },
   "pygments_lexer": "ipython3",
   "nbconvert_exporter": "python",
   "file_extension": ".py"
  },
  "kernelspec": {
   "name": "python3",
   "display_name": "Python 3.9.2 64-bit"
  },
  "interpreter": {
   "hash": "63fd5069d213b44bf678585dea6b12cceca9941eaf7f819626cde1f2670de90d"
  }
 },
 "nbformat": 4,
 "nbformat_minor": 2
}